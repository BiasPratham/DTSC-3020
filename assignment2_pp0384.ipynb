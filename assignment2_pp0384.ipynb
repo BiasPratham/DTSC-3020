{
 "cells": [
  {
   "cell_type": "code",
   "execution_count": 1,
   "id": "00311f72-7870-43e5-bb65-6bd39aa7c2c3",
   "metadata": {},
   "outputs": [
    {
     "name": "stdout",
     "output_type": "stream",
     "text": [
      "Full list: ['apple', 'banana', 'orange']\n",
      "apple\n",
      "banana\n",
      "orange\n"
     ]
    }
   ],
   "source": [
    "fruits = [\"apple\", \"banana\", \"orange\"]\n",
    "print(\"Full list:\", fruits)\n",
    "for fruit in fruits:\n",
    "    print(fruit)"
   ]
  },
  {
   "cell_type": "code",
   "execution_count": 3,
   "id": "e2b9451b-d766-4348-96cf-9c2e3f88602c",
   "metadata": {},
   "outputs": [
    {
     "name": "stdout",
     "output_type": "stream",
     "text": [
      "['Eve', 'Bob', 'Charlie', 'Diana']\n"
     ]
    }
   ],
   "source": [
    "names = [\"Alice\", \"Bob\", \"Charlie\", \"Diana\"]\n",
    "names[0] = \"Eve\"\n",
    "print(names)"
   ]
  },
  {
   "cell_type": "code",
   "execution_count": 5,
   "id": "e64adb90-23f0-4bce-b752-5ae20905d3d8",
   "metadata": {},
   "outputs": [
    {
     "name": "stdout",
     "output_type": "stream",
     "text": [
      "['car', 'bus', 'bike', 'scooter', 'train', 'truck']\n"
     ]
    }
   ],
   "source": [
    "vehicles = [\"car\", \"bus\", \"bike\", \"scooter\", \"train\"]\n",
    "vehicles.append(\"truck\")\n",
    "print(vehicles)"
   ]
  },
  {
   "cell_type": "code",
   "execution_count": 7,
   "id": "a5ce50f1-4bc2-4139-ab3c-6a5d6548b53d",
   "metadata": {},
   "outputs": [
    {
     "name": "stdout",
     "output_type": "stream",
     "text": [
      "Removed: tacos\n",
      "New list: ['pizza', 'sushi', 'pasta', 'salad', 'burger']\n"
     ]
    }
   ],
   "source": [
    "foods = [\"pizza\", \"sushi\", \"tacos\", \"pasta\", \"salad\", \"burger\"]\n",
    "removed = foods.pop(2)\n",
    "print(\"Removed:\", removed)\n",
    "print(\"New list:\", foods)\n"
   ]
  },
  {
   "cell_type": "code",
   "execution_count": 11,
   "id": "9791fda0-5113-4d2c-b23b-c0119b6fd087",
   "metadata": {},
   "outputs": [
    {
     "name": "stdout",
     "output_type": "stream",
     "text": [
      "Alphabetical: ['Austin', 'Dallas', 'Houston', 'San Antonio']\n",
      "Reversed: ['San Antonio', 'Houston', 'Dallas', 'Austin']\n"
     ]
    }
   ],
   "source": [
    "cities = [\"Dallas\", \"Austin\", \"Houston\", \"San Antonio\"]\n",
    "cities.sort()\n",
    "print(\"Alphabetical:\", cities)\n",
    "cities.reverse()\n",
    "print(\"Reversed:\", cities)"
   ]
  },
  {
   "cell_type": "code",
   "execution_count": 13,
   "id": "38b52ecd-1393-4571-a65a-ad35d59dceff",
   "metadata": {},
   "outputs": [
    {
     "name": "stdout",
     "output_type": "stream",
     "text": [
      "cat\n",
      "dog\n",
      "rabbit\n"
     ]
    }
   ],
   "source": [
    "animals = [\"cat\", \"dog\", \"rabbit\"]\n",
    "for animal in animals:\n",
    "    print(animal)"
   ]
  },
  {
   "cell_type": "code",
   "execution_count": 15,
   "id": "9131b516-e3f0-4bae-808e-00408c09db9a",
   "metadata": {},
   "outputs": [
    {
     "name": "stdout",
     "output_type": "stream",
     "text": [
      "2\n",
      "4\n",
      "6\n",
      "8\n",
      "10\n"
     ]
    }
   ],
   "source": [
    "numbers = [1, 2, 3, 4, 5]\n",
    "for n in numbers:\n",
    "    print(n * 2)"
   ]
  },
  {
   "cell_type": "code",
   "execution_count": 17,
   "id": "0d360397-f91f-4b49-b691-723215574b99",
   "metadata": {},
   "outputs": [
    {
     "name": "stdout",
     "output_type": "stream",
     "text": [
      "First three: ['Noah', 'Liam', 'Olivia']\n",
      "Last three: Emma\n"
     ]
    }
   ],
   "source": [
    "friends = [\"Noah\", \"Liam\", \"Olivia\", \"Emma\", \"Ava\", \"Sophia\"]\n",
    "print(\"First three:\", friends[:3])\n",
    "print(\"Last three:\", friends[-3])"
   ]
  },
  {
   "cell_type": "code",
   "execution_count": 19,
   "id": "06ff9b92-60e8-4646-86b2-5591a90f0002",
   "metadata": {},
   "outputs": [
    {
     "name": "stdout",
     "output_type": "stream",
     "text": [
      "[1, 2, 3, 4, 5, 6, 7, 8, 9, 10]\n"
     ]
    }
   ],
   "source": [
    "nums_1_to_10 = list(range(1, 11))\n",
    "print(nums_1_to_10)"
   ]
  },
  {
   "cell_type": "code",
   "execution_count": 21,
   "id": "56cf9f50-9a46-47cb-81eb-b3b497121563",
   "metadata": {},
   "outputs": [
    {
     "name": "stdout",
     "output_type": "stream",
     "text": [
      "[1, 4, 9, 16, 25]\n"
     ]
    }
   ],
   "source": [
    "squares = [n**2 for n in range(1, 6)]\n",
    "print(squares)"
   ]
  },
  {
   "cell_type": "code",
   "execution_count": null,
   "id": "8973ab22-db54-4443-ad4a-568ef6216e68",
   "metadata": {},
   "outputs": [],
   "source": []
  }
 ],
 "metadata": {
  "kernelspec": {
   "display_name": "Python 3 (ipykernel)",
   "language": "python",
   "name": "python3"
  },
  "language_info": {
   "codemirror_mode": {
    "name": "ipython",
    "version": 3
   },
   "file_extension": ".py",
   "mimetype": "text/x-python",
   "name": "python",
   "nbconvert_exporter": "python",
   "pygments_lexer": "ipython3",
   "version": "3.12.4"
  }
 },
 "nbformat": 4,
 "nbformat_minor": 5
}

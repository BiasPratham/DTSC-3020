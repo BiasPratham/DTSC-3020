{
  "nbformat": 4,
  "nbformat_minor": 0,
  "metadata": {
    "colab": {
      "provenance": []
    },
    "kernelspec": {
      "name": "python3",
      "display_name": "Python 3"
    },
    "language_info": {
      "name": "python"
    }
  },
  "cells": [
    {
      "cell_type": "markdown",
      "source": [
        "##Final Class Exercise"
      ],
      "metadata": {
        "id": "51gCuC6VJ3gu"
      }
    },
    {
      "cell_type": "markdown",
      "source": [
        "Write a Python function create_email(full_name) that builds a UNT email in the format\n",
        "firstname.lastname@my.unt.edu.\n",
        "\n",
        "Rules\n",
        "\n",
        " • Use the first and last word from full_name (case-insensitive).\n",
        "\n",
        " • Convert everything to lowercase.\n",
        "\n",
        " • If there is only one word, use it twice (e.g., \"ali\" → ali.ali@my.unt.edu).\n",
        "\n",
        " • Return the email string.\n",
        "\n",
        "\n",
        "Constraints\n",
        "\n",
        " • Use a function and return.\n",
        "\n",
        " • Do not use input() or external libraries.\n",
        "\n",
        "\n",
        " test your code with this list\n",
        " names = [\n",
        "    \"Sara Amini\",\n",
        "    \"Ali\",\n",
        "    \"Mary Jane\",\n",
        "    \"  John   Smith  \",\n",
        "    \"LINA\",\n",
        "    \"madonna\",\n",
        "    \"  sara   amini  \"\n",
        "]"
      ],
      "metadata": {
        "id": "7pxJ6i3jH7Yq"
      }
    },
    {
      "cell_type": "code",
      "source": [
        "def create_email(full_name):\n",
        "\n",
        "  parts = full_name.strip().lower().split()\n",
        "\n",
        "  if len(parts) == 0:\n",
        "    return None\n",
        "\n",
        "  if len(parts) == 1:\n",
        "    first = last = parts[0]\n",
        "  else:\n",
        "    first, last = parts[0], parts[-1]\n",
        "\n",
        "  email = f\"{first}.{last}@my.unt.edu\"\n",
        "  return email\n",
        "\n",
        "\n",
        "\n",
        "\n",
        "names = [\n",
        "    \"Sara Amini\",\n",
        "    \"Ali\",\n",
        "    \"Mary Jane\",\n",
        "    \"  John   Smith  \",\n",
        "    \"LINA\",\n",
        "    \"madonna\",\n",
        "    \"  sara   amini  \"\n",
        "]\n",
        "\n",
        "for name in names:\n",
        "  print(f\"{name!r} -> {create_email(name)}\")\n"
      ],
      "metadata": {
        "id": "6jcH9Qm_IXWh",
        "colab": {
          "base_uri": "https://localhost:8080/"
        },
        "outputId": "1a59eb6e-c658-4f25-d7b7-ae220888286e"
      },
      "execution_count": 3,
      "outputs": [
        {
          "output_type": "stream",
          "name": "stdout",
          "text": [
            "'Sara Amini' -> sara.amini@my.unt.edu\n",
            "'Ali' -> ali.ali@my.unt.edu\n",
            "'Mary Jane' -> mary.jane@my.unt.edu\n",
            "'  John   Smith  ' -> john.smith@my.unt.edu\n",
            "'LINA' -> lina.lina@my.unt.edu\n",
            "'madonna' -> madonna.madonna@my.unt.edu\n",
            "'  sara   amini  ' -> sara.amini@my.unt.edu\n"
          ]
        }
      ]
    }
  ]
}
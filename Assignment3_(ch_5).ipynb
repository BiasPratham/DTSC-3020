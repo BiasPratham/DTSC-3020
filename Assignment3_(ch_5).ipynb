{
 "cells": [
  {
   "cell_type": "markdown",
   "id": "nevCG4Qs0b8R",
   "metadata": {
    "id": "nevCG4Qs0b8R"
   },
   "source": [
    "# DTSC 3020 – Assignment 3\n",
    "\n",
    "This exercise focuses on **if statements and conditional logic** in Python and is designed to help students practice decision-making structures.\n",
    "\n",
    "**Total points:** 5  \n",
    "**Deadline:** Friday at midnight  \n",
    "**Submission:** Upload your Python file to your GitHub repository and submit **only your GitHub link**.\n",
    "\n",
    "### Expectations\n",
    "- Write complete answers and run all cells before submission.\n",
    "- Keep the notebook clean (no unnecessary code).\n",
    "\n"
   ]
  },
  {
   "cell_type": "markdown",
   "id": "gfumj0DY0b8f",
   "metadata": {
    "id": "gfumj0DY0b8f"
   },
   "source": [
    "## Question 1 – Movie Ticket System\n",
    "Write a Python code that checks the price of a movie ticket.\n",
    "If the age is between 0 and 11 it is Child, if between 12 and 17 it is Teen, and if 18 or older it is Adult.\n",
    "Print the category and the ticket price (you choose the price).\n",
    "Run the program with age = 16."
   ]
  },
  {
   "cell_type": "code",
   "execution_count": 5,
   "id": "67TGDT6w0b8k",
   "metadata": {
    "id": "67TGDT6w0b8k"
   },
   "outputs": [
    {
     "name": "stdout",
     "output_type": "stream",
     "text": [
      "Category: Teen\n",
      "Ticket price> $10.00\n"
     ]
    }
   ],
   "source": [
    "age = 16\n",
    "\n",
    "if 0 <= age <= 11:\n",
    "    category, price = \"Child\", 8.00\n",
    "elif 12 <= age <= 17:\n",
    "    category, price = \"Teen\", 10.00\n",
    "else:\n",
    "    category, price = \"Adult\", 12.00\n",
    "\n",
    "print(f\"Category: {category}\")\n",
    "print(f\"Ticket price> ${price:.2f}\")"
   ]
  },
  {
   "cell_type": "markdown",
   "id": "_tUFNVKT0b8r",
   "metadata": {
    "id": "_tUFNVKT0b8r"
   },
   "source": [
    "## Question 2 – Online Store Discount\n",
    "Write a Python code that applies a discount based on the shopping cart total.\n",
    "If the total is less than 50 dollars there is no discount, if the total is between 50 and 99 dollars there is a 10 percent discount, and if the total is 100 dollars or more there is a 20 percent discount.\n",
    "Print the original total, the discount, and the final price.\n",
    "Run the program with cart_total = 85."
   ]
  },
  {
   "cell_type": "code",
   "execution_count": 9,
   "id": "yTtX719o0b8v",
   "metadata": {
    "id": "yTtX719o0b8v"
   },
   "outputs": [
    {
     "name": "stdout",
     "output_type": "stream",
     "text": [
      "Original total: $85.00\n",
      "Discount: $8.50\n",
      "Final Price: $76.50\n"
     ]
    }
   ],
   "source": [
    "cart_total = 85.00\n",
    "\n",
    "if cart_total < 50:\n",
    "    discount_rate = 0.00\n",
    "elif cart_total < 100:\n",
    "    discount_rate = 0.10\n",
    "else:\n",
    "    discount_rate = 0.20\n",
    "\n",
    "discount = cart_total * discount_rate\n",
    "final_price = cart_total - discount\n",
    "\n",
    "print(f\"Original total: ${cart_total:.2f}\")\n",
    "print(f\"Discount: ${discount:.2f}\")\n",
    "print(f\"Final Price: ${final_price:.2f}\")"
   ]
  },
  {
   "cell_type": "markdown",
   "id": "uOUYYC870b8x",
   "metadata": {
    "id": "uOUYYC870b8x"
   },
   "source": [
    "## Question 3 – Exam Grading\n",
    "Write a Python code that gives a letter grade for a score.\n",
    "If the score is between 90 and 100 the grade is A, if between 80 and 89 the grade is B, if between 70 and 79 the grade is C, if between 60 and 69 the grade is D, and if below 60 the grade is F.\n",
    "Print the grade and a short message.\n",
    "Run the program with score = 73."
   ]
  },
  {
   "cell_type": "code",
   "execution_count": 13,
   "id": "HDtf_YLG0b8y",
   "metadata": {
    "id": "HDtf_YLG0b8y"
   },
   "outputs": [
    {
     "name": "stdout",
     "output_type": "stream",
     "text": [
      "Grade: C - Good Effort\n"
     ]
    }
   ],
   "source": [
    "score = 73\n",
    "\n",
    "if 90 <= score <= 100:\n",
    "    grade, msg = \"A\", \"Excellent\"\n",
    "elif 80 <= score < 90:\n",
    "    grade, msg = \"B\", \"Nice Work\"\n",
    "elif 70 <= score < 80:\n",
    "    grade, msg = \"C\", \"Good Effort\"\n",
    "elif 60 <= score < 70:\n",
    "    grade, msg = \"D\", \"Keep Trying\"\n",
    "else:\n",
    "    grade, msg = \"F\", \"See me after class\"\n",
    "\n",
    "print(f\"Grade: {grade} - {msg}\")"
   ]
  },
  {
   "cell_type": "markdown",
   "id": "ZCIKM6Xs0b80",
   "metadata": {
    "id": "ZCIKM6Xs0b80"
   },
   "source": [
    "## Question 4 – Parking Fee\n",
    "Write a Python code that calculates parking fees.\n",
    "If the car is parked for 0 to 2 hours the parking is free, if the car is parked for 3 to 5 hours the fee is 3 dollars per hour, and if the car is parked for more than 5 hours the fee is 3 dollars per hour for the first three hours after free and then 5 dollars per hour for the rest.\n",
    "Print the number of hours and the total fee.\n",
    "Run the program with hours = 6."
   ]
  },
  {
   "cell_type": "code",
   "execution_count": 15,
   "id": "g3a_sPo50b81",
   "metadata": {
    "id": "g3a_sPo50b81"
   },
   "outputs": [
    {
     "name": "stdout",
     "output_type": "stream",
     "text": [
      "Hours parked: 6\n",
      "Total fee: $14.00\n"
     ]
    }
   ],
   "source": [
    "hours = 6\n",
    "\n",
    "if 0 <= hours <= 2:\n",
    "    fee = 0\n",
    "elif 3 <= hours <= 5:\n",
    "    fee = (hours - 2) * 3\n",
    "else:\n",
    "    fee = (3 * 3) + (hours - 5) * 5\n",
    "\n",
    "print(f\"Hours parked: {hours}\")\n",
    "print(f\"Total fee: ${fee:.2f}\")"
   ]
  },
  {
   "cell_type": "markdown",
   "id": "XBf0-SPz0b83",
   "metadata": {
    "id": "XBf0-SPz0b83"
   },
   "source": [
    "## Question 5 – Cafeteria Menu\n",
    "Write a Python code that creates a list with three food items.\n",
    "Check if an order is in the list.\n",
    "If the item is in the list print a confirmation, and if the item is not in the list print a polite message.\n",
    "Run the program with menu = ['pizza','salad','sandwich'] and order = 'salad'."
   ]
  },
  {
   "cell_type": "code",
   "execution_count": 17,
   "id": "y52UEMoX0b85",
   "metadata": {
    "id": "y52UEMoX0b85"
   },
   "outputs": [
    {
     "name": "stdout",
     "output_type": "stream",
     "text": [
      "Salad is available.\n"
     ]
    }
   ],
   "source": [
    "menu = ['pizza', 'salad', 'sandwich']\n",
    "order = 'salad'\n",
    "\n",
    "if order in menu:\n",
    "    print(f\"{order.title()} is available.\")\n",
    "else:\n",
    "    print(f\"Sorry, {order.title()} is not available.\")"
   ]
  },
  {
   "cell_type": "markdown",
   "id": "-60rL71F0b86",
   "metadata": {
    "id": "-60rL71F0b86"
   },
   "source": [
    "## Question 6 – Job Application Filter\n",
    "Write a Python code that checks if a person is eligible for a job.\n",
    "If the person is older than 22 and has more than 2 years of experience print Accepted.\n",
    "Otherwise print Not Accepted.\n",
    "Run the program with age = 23 and experience = 1."
   ]
  },
  {
   "cell_type": "code",
   "execution_count": 19,
   "id": "-h964CqY0b88",
   "metadata": {
    "id": "-h964CqY0b88"
   },
   "outputs": [
    {
     "name": "stdout",
     "output_type": "stream",
     "text": [
      "Not Accepted\n"
     ]
    }
   ],
   "source": [
    "age = 23\n",
    "experience = 1\n",
    "\n",
    "if age > 22 and experience > 2:\n",
    "    print(\"Accepted\")\n",
    "else:\n",
    "    print(\"Not Accepted\")\n"
   ]
  },
  {
   "cell_type": "markdown",
   "id": "MOMMxnuE0b8-",
   "metadata": {
    "id": "MOMMxnuE0b8-"
   },
   "source": [
    "## Question 7 – Clothing Advice\n",
    "Write a Python code that suggests clothing based on the temperature.\n",
    "If the temperature is below 10 print Coat and gloves, if the temperature is between 10 and 19 print Jacket, and if the temperature is 20 or more print T-shirt.\n",
    "Run the program with temperature = 15."
   ]
  },
  {
   "cell_type": "code",
   "execution_count": 21,
   "id": "V6RtrCOa0b8_",
   "metadata": {
    "id": "V6RtrCOa0b8_"
   },
   "outputs": [
    {
     "name": "stdout",
     "output_type": "stream",
     "text": [
      "Jacket\n"
     ]
    }
   ],
   "source": [
    "temp = 15\n",
    "\n",
    "if temp < 10:\n",
    "    print(\"Coat and gloves\")\n",
    "elif 10 <= temp <= 19:\n",
    "    print(\"Jacket\")\n",
    "else:\n",
    "    print(\"T-shirt\")"
   ]
  },
  {
   "cell_type": "markdown",
   "id": "R-i9Jzpn0b9A",
   "metadata": {
    "id": "R-i9Jzpn0b9A"
   },
   "source": [
    "## Question 8 – Loan Eligibility\n",
    "Write a Python code that checks loan eligibility.\n",
    "If the salary is at least 3000 and the credit score is at least 650 print Loan Approved, otherwise print Loan Denied.\n",
    "Run the program with salary = 3500 and credit_score = 640."
   ]
  },
  {
   "cell_type": "code",
   "execution_count": 23,
   "id": "2M0s0bC40b9B",
   "metadata": {
    "id": "2M0s0bC40b9B"
   },
   "outputs": [
    {
     "name": "stdout",
     "output_type": "stream",
     "text": [
      "Loan Denied\n"
     ]
    }
   ],
   "source": [
    "# write your answer here\n",
    "salary = 3500\n",
    "credit_score = 640\n",
    "\n",
    "if salary >= 3000 and credit_score >= 650:\n",
    "    print(\"Loan Approved\")\n",
    "else:\n",
    "    print(\"Loan Denied\")"
   ]
  },
  {
   "cell_type": "markdown",
   "id": "I0WmTyFv0b9D",
   "metadata": {
    "id": "I0WmTyFv0b9D"
   },
   "source": [
    "## Question 9 – Password Strength\n",
    "Write a Python code that checks if a password is strong, medium, or weak based on its length.\n",
    "If the password has fewer than 6 characters it is Weak, if it has 6 to 10 characters it is Medium, and if it has more than 10 characters it is Strong.\n",
    "Print the strength.\n",
    "Run the program with password = 'hello123'."
   ]
  },
  {
   "cell_type": "code",
   "execution_count": 25,
   "id": "Jm8fu7ft0b9E",
   "metadata": {
    "id": "Jm8fu7ft0b9E"
   },
   "outputs": [
    {
     "name": "stdout",
     "output_type": "stream",
     "text": [
      "Medium\n"
     ]
    }
   ],
   "source": [
    "password = 'hello123'\n",
    "n = len(password)\n",
    "\n",
    "if n < 6:\n",
    "    strength = \"Weak\"\n",
    "elif n <= 10:\n",
    "    strength = \"Medium\"\n",
    "else:\n",
    "    strength = (\"Strong\")\n",
    "\n",
    "print(strength)"
   ]
  },
  {
   "cell_type": "markdown",
   "id": "kgKSm4WB0b9F",
   "metadata": {
    "id": "kgKSm4WB0b9F"
   },
   "source": [
    "## Question 10 – Guest List Checker\n",
    "Write a Python code that creates a list with three invited guests.\n",
    "Define a variable for a guest name.\n",
    "Check if the guest name is in the list.\n",
    "If the guest is in the list print Welcome, and if the guest is not in the list print Not on the list.\n",
    "Run the program with guest = 'Sara'."
   ]
  },
  {
   "cell_type": "code",
   "execution_count": 27,
   "id": "4pyiTbMT0b9G",
   "metadata": {
    "id": "4pyiTbMT0b9G"
   },
   "outputs": [
    {
     "name": "stdout",
     "output_type": "stream",
     "text": [
      "Welcome\n"
     ]
    }
   ],
   "source": [
    "guests = ['Ali', 'Sara', 'Noah']\n",
    "guest = 'Sara'\n",
    "\n",
    "if guest in guests:\n",
    "    print(\"Welcome\")\n",
    "else:\n",
    "    print(\"Not on the list\")"
   ]
  },
  {
   "cell_type": "code",
   "execution_count": null,
   "id": "f563c100-1420-417b-9cfd-04ec0c00bd5a",
   "metadata": {},
   "outputs": [],
   "source": []
  }
 ],
 "metadata": {
  "colab": {
   "provenance": []
  },
  "kernelspec": {
   "display_name": "Python 3 (ipykernel)",
   "language": "python",
   "name": "python3"
  },
  "language_info": {
   "codemirror_mode": {
    "name": "ipython",
    "version": 3
   },
   "file_extension": ".py",
   "mimetype": "text/x-python",
   "name": "python",
   "nbconvert_exporter": "python",
   "pygments_lexer": "ipython3",
   "version": "3.12.4"
  }
 },
 "nbformat": 4,
 "nbformat_minor": 5
}

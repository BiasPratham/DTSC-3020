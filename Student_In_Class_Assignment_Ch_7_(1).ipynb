{
  "nbformat": 4,
  "nbformat_minor": 0,
  "metadata": {
    "colab": {
      "provenance": []
    },
    "kernelspec": {
      "name": "python3",
      "display_name": "Python 3"
    },
    "language_info": {
      "name": "python"
    }
  },
  "cells": [
    {
      "cell_type": "markdown",
      "source": [
        "#Write a Python program that simulates a self-checkout system.**\n",
        "Use this price list: prices: apple= 1 ,  bread= 2.5 ,  milk=5 ,  egg= 6\n",
        "\n",
        "Program requirements:\n",
        "\n",
        "The program should repeatedly ask the user to enter an item name or enter \"pay\".\n",
        "\n",
        "\n",
        "• Valid inputs are the names of the **items above ** or the word \"pay\".\n",
        "\n",
        "\n",
        "If the entered item exists in the price list:\n",
        "\n",
        "• Add its price to the running total.\n",
        "\n",
        "\n",
        "• Print the message: \"Added , running total: $\".\n",
        "\n",
        "\n",
        "If the entered item does not exist in the price list:\n",
        "\n",
        "• Print \"Item not found\".\n",
        "\n",
        "If the user types \"pay\":\n",
        "\n",
        "• Stop asking for input.\n",
        "\n",
        "Show the following three values:\n",
        "\n",
        "\n",
        "**Subtotal: the sum of all valid items entered.**\n",
        "\n",
        "**Tax: 8% of the subtotal. (0.08 * total)**\n",
        "\n",
        "**Final total: subtotal + tax.**\n",
        "\n",
        "\n",
        "Run your program with this purchase list. For example, for one person whose purchase is:apple, pizza, bread, pay *italicised text*"
      ],
      "metadata": {
        "id": "t1xs1X02Owtz"
      }
    },
    {
      "cell_type": "code",
      "execution_count": 5,
      "metadata": {
        "id": "nTH6mvq1OqHP",
        "colab": {
          "base_uri": "https://localhost:8080/"
        },
        "outputId": "16829702-57fd-4866-d189-10f2ad2e5920"
      },
      "outputs": [
        {
          "output_type": "stream",
          "name": "stdout",
          "text": [
            "Enter an item name or 'pay' to finish: apple\n",
            "Added apple, running total: $1.00\n",
            "Enter an item name or 'pay' to finish: pizza\n",
            "Item not found\n",
            "Enter an item name or 'pay' to finish: bread\n",
            "Added bread, running total: $3.50\n",
            "Enter an item name or 'pay' to finish: pay\n",
            "\n",
            "Purchase Summary:\n",
            "Subtotal: $3.50\n",
            "Tax: $0.28\n",
            "Final Total: $3.78\n"
          ]
        }
      ],
      "source": [
        "prices = {\n",
        "    \"apple\": 1.0,\n",
        "    \"bread\": 2.5,\n",
        "    \"milk\": 5.0,\n",
        "    \"egg\": 6.0\n",
        "}\n",
        "\n",
        "subtotal = 0\n",
        "\n",
        "while True:\n",
        "    item = input(\"Enter an item name or 'pay' to finish: \").lower().strip()\n",
        "\n",
        "    if item == \"pay\":\n",
        "        break\n",
        "    elif item in prices:\n",
        "      subtotal += prices[item]\n",
        "      print(f\"Added {item}, running total: ${subtotal:.2f}\")\n",
        "    else:\n",
        "      print(\"Item not found\")\n",
        "\n",
        "\n",
        "tax = subtotal * 0.08\n",
        "final_total = subtotal + tax\n",
        "\n",
        "print(\"\\nPurchase Summary:\")\n",
        "print(f\"Subtotal: ${subtotal:.2f}\")\n",
        "print(f\"Tax: ${tax:.2f}\")\n",
        "print(f\"Final Total: ${final_total:.2f}\")"
      ]
    }
  ]
}
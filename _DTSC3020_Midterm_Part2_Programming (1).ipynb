{
  "cells": [
    {
      "cell_type": "markdown",
      "id": "8e58db4f",
      "metadata": {
        "id": "8e58db4f"
      },
      "source": [
        "# DTSC 3020 — Midterm Exam (Part 2: Programming)\n",
        "University of North Texas\n",
        "\n",
        "**Course:** Introduction to Computation with Python (DTSC 3020)  \n",
        "**Exam:** Midterm — Programming (Ch. 1–8 concepts)\n",
        "\n"
      ]
    },
    {
      "cell_type": "markdown",
      "id": "ed86aaec",
      "metadata": {
        "id": "ed86aaec"
      },
      "source": [
        "---\n",
        "### Instructions\n",
        "- Write clean, readable Python code for each question.\n",
        "- Use only standard Python; no external libraries.\n",
        "- Where required, write a function and return the result.\n",
        "- After each solution cell, there is a **Part 2 — Test Scenario**. Follow the prompt to run your code.\n",
        "\n",
        "---"
      ]
    },
    {
      "cell_type": "markdown",
      "id": "227c4435",
      "metadata": {
        "id": "227c4435"
      },
      "source": [
        "## Question 1 — Create Member ID\n",
        "Write a Python function `create_member_id(full_name)` that creates a Library Member ID from a person’s full name.\n",
        "\n",
        "**Rules**\n",
        "- Normalize the name: remove extra spaces, convert to lowercase, and split by spaces.\n",
        "- Use the last word as the last name (e.g., `\"John Ronald Reuel Tolkien\"` → last name `tolkien`).\n",
        "- Use the first letters of all earlier words as initials (e.g., `jrr` for the example above).\n",
        "- Construct the member ID in this exact format: `lastname_initials` (underscore between them; no spaces).\n",
        "\n",
        "**Examples**\n",
        "- `\"Sara Amini\"` → `amini_sa`\n",
        "- `\"Mary Jane Watson\"` → `watson_mj`\n",
        "- `\"LINA\"` (single word) → use the word for both parts: `lina_l`\n",
        "\n",
        "Part 2 — Test Scenario (run using your function)\n",
        "names = [\"Sara Amini\", \"Ali\", \"Mary Jane\", \"John Smith\", \"LINA\", \"madonna\", \"sara amini\"]\n",
        "\n",
        "\n",
        "\n"
      ]
    },
    {
      "cell_type": "code",
      "execution_count": 2,
      "id": "51411a35",
      "metadata": {
        "id": "51411a35"
      },
      "outputs": [],
      "source": [
        "def create_member_id(full_name):\n",
        "  name = full_name.strip().lower()\n",
        "  parts = name.split()\n",
        "\n",
        "  if len(parts) == 1:\n",
        "    last_name = parts[0]\n",
        "    initials = parts[0][0]\n",
        "\n",
        "  else:\n",
        "    last_name = parts[-1]\n",
        "    initials = ''.join([part[0] for part in parts[:-1]])\n",
        "\n",
        "  member_id = f\"{last_name}_{initials}\"\n",
        "  return member_id\n"
      ]
    },
    {
      "cell_type": "code",
      "execution_count": 3,
      "id": "584ae4f0",
      "metadata": {
        "id": "584ae4f0",
        "colab": {
          "base_uri": "https://localhost:8080/"
        },
        "outputId": "ebb584d7-00ac-4b69-834c-36473c9fccac"
      },
      "outputs": [
        {
          "output_type": "stream",
          "name": "stdout",
          "text": [
            "Sara Amini -> amini_s\n",
            "Ali -> ali_a\n",
            "Mary Jane -> jane_m\n",
            "John Smith -> smith_j\n",
            "LINA -> lina_l\n",
            "madonna -> madonna_m\n",
            "sara amini -> amini_s\n"
          ]
        }
      ],
      "source": [
        "names = [\"Sara Amini\", \"Ali\", \"Mary Jane\", \"John Smith\", \"LINA\", \"madonna\", \"sara amini\"]\n",
        "for name in names:\n",
        "  print(f\"{name} -> {create_member_id(name)}\")"
      ]
    },
    {
      "cell_type": "markdown",
      "id": "c1727720",
      "metadata": {
        "id": "c1727720"
      },
      "source": [
        "## Question 2 — Movie Ticket Booth\n",
        "\n",
        "Write a Python program that simulates a movie ticket booth using this price list:\n",
        "\n",
        "```python\n",
        "prices = {\"adult\": 12.5, \"child\": 8, \"senior\": 9.5, \"student\": 10}\n",
        "```\n",
        "\n",
        "**Program Requirements**\n",
        "- Repeatedly ask the user to enter a ticket type or type `done` to finish.\n",
        "- Valid inputs: `adult`, `child`, `senior`, `student`, or `done`.\n",
        "- If the ticket type exists, add its price to a running total and print a confirmation message.\n",
        "- If it doesn’t exist, print `\"Invalid ticket type\"`.\n",
        "- When the user types `done`, stop and show:\n",
        "  - **Subtotal** (sum of valid ticket prices)\n",
        "  - **Tax** = 8% of subtotal\n",
        "  - **Final total** = subtotal + tax\n"
      ]
    },
    {
      "cell_type": "code",
      "execution_count": 5,
      "id": "4b859e17",
      "metadata": {
        "id": "4b859e17",
        "colab": {
          "base_uri": "https://localhost:8080/"
        },
        "outputId": "561c133b-6a6e-4c9d-bd32-4ba85985a03e"
      },
      "outputs": [
        {
          "output_type": "stream",
          "name": "stdout",
          "text": [
            "Enter ticket type (or 'done' to finish): adult\n",
            "Added adult ticket - $12.50. Running total: $12.50\n",
            "Enter ticket type (or 'done' to finish): child\n",
            "Added child ticket - $8.00. Running total: $20.50\n",
            "Enter ticket type (or 'done' to finish): student\n",
            "Added student ticket - $10.00. Running total: $30.50\n",
            "Enter ticket type (or 'done' to finish): done\n",
            "\n",
            "--- Summary ---\n",
            "Subtotal: $30.50\n",
            "Tax (8%): $2.44\n",
            "Final Total: $32.94\n"
          ]
        }
      ],
      "source": [
        "prices = {\"adult\": 12.5, \"child\": 8, \"senior\": 9.5, \"student\": 10}\n",
        "\n",
        "subtotal = 0\n",
        "\n",
        "while True:\n",
        "  ticket = input(\"Enter ticket type (or 'done' to finish): \")\n",
        "\n",
        "  if ticket == \"done\":\n",
        "    break\n",
        "\n",
        "  elif ticket in prices:\n",
        "    subtotal += prices[ticket]\n",
        "    print(f\"Added {ticket} ticket - ${prices[ticket]:.2f}. Running total: ${subtotal:.2f}\")\n",
        "\n",
        "  else:\n",
        "    print(\"Invalid ticket type\")\n",
        "\n",
        "tax = subtotal * 0.08\n",
        "final_total = subtotal + tax\n",
        "\n",
        "print(\"\\n--- Summary ---\")\n",
        "print(f\"Subtotal: ${subtotal:.2f}\")\n",
        "print(f\"Tax (8%): ${tax:.2f}\")\n",
        "print(f\"Final Total: ${final_total:.2f}\")"
      ]
    },
    {
      "cell_type": "markdown",
      "id": "17b39afe",
      "metadata": {
        "id": "17b39afe"
      },
      "source": [
        "**Part 2 — Example Scenario**\n",
        "When prompted, type the following (each on a new line), then press Enter after each entry:\n",
        "\n",
        "```\n",
        "adult\n",
        "child\n",
        "student\n",
        "done\n",
        "```\n",
        "Your program should complete and display the subtotal, tax, and final total based on these entries.\n"
      ]
    },
    {
      "cell_type": "markdown",
      "id": "28c710b6",
      "metadata": {
        "id": "28c710b6"
      },
      "source": [
        "## Question 3 — Student Grade Analyzer\n",
        "\n",
        "Write a Python function `analyze_grades(grades)` that takes a list of numbers (0–100) and returns three values:\n",
        "1. average grade\n",
        "2. highest grade\n",
        "3. lowest grade\n",
        "\n",
        "**Constraints**\n",
        "- Use a function and return statement(s).\n",
        "- Do not use external libraries.\n"
      ]
    },
    {
      "cell_type": "code",
      "execution_count": 6,
      "id": "efce3052",
      "metadata": {
        "id": "efce3052",
        "colab": {
          "base_uri": "https://localhost:8080/"
        },
        "outputId": "298f067e-81b9-48d8-c4d8-7a6a188c327b"
      },
      "outputs": [
        {
          "output_type": "stream",
          "name": "stdout",
          "text": [
            "Average grade: 85.14\n",
            "Highest grade: 93\n",
            "Lowest grade: 72\n"
          ]
        }
      ],
      "source": [
        "def analyze_grades(grades):\n",
        "  average = sum(grades) / len(grades)\n",
        "  highest = max(grades)\n",
        "  lowest = min(grades)\n",
        "\n",
        "  return average, highest, lowest\n",
        "\n",
        "\n",
        "grades_list = [85, 92, 79, 93, 85, 90, 72]\n",
        "avg, high, low = analyze_grades(grades_list)\n",
        "\n",
        "print(f\"Average grade: {avg:.2f}\")\n",
        "print(f\"Highest grade: {high}\")\n",
        "print(f\"Lowest grade: {low}\")"
      ]
    },
    {
      "cell_type": "code",
      "execution_count": null,
      "id": "ad2b0d29",
      "metadata": {
        "id": "ad2b0d29"
      },
      "outputs": [],
      "source": [
        "# Part 2 — Test Scenario\n",
        "sample = [88, 92, 79, 93, 85, 90, 72]\n"
      ]
    },
    {
      "cell_type": "markdown",
      "id": "d378f3c3",
      "metadata": {
        "id": "d378f3c3"
      },
      "source": [
        "## Question 4 — PIN Verification\n",
        "Write a Python program that simulates an ATM PIN verification system.\n",
        "\n",
        "**Requirements**\n",
        "- The correct PIN is `4321`.\n",
        "- The user has at most **3 attempts** to enter the correct PIN.\n",
        "- If the PIN is correct: print `Access granted.` and stop.\n",
        "- If all 3 attempts fail: print `Card blocked.`\n",
        "- After each wrong attempt, also print the counter in the form `Wrong (x/3)`.\n"
      ]
    },
    {
      "cell_type": "code",
      "execution_count": 12,
      "id": "5ea085a2",
      "metadata": {
        "id": "5ea085a2",
        "colab": {
          "base_uri": "https://localhost:8080/"
        },
        "outputId": "531b2bf2-a414-4fa3-fe7c-168b9c1d8d7e"
      },
      "outputs": [
        {
          "output_type": "stream",
          "name": "stdout",
          "text": [
            "Enter your pin: 1111\n",
            "Wrong (1/3)\n",
            "Enter your pin: 2222\n",
            "Wrong (2/3)\n",
            "Enter your pin: 4321\n",
            "Access granted.\n"
          ]
        }
      ],
      "source": [
        "correct_pin = \"4321\"\n",
        "\n",
        "\n",
        "for attempt in range(1, 4):\n",
        "  pin = input(\"Enter your pin: \").strip()\n",
        "\n",
        "  if pin == correct_pin:\n",
        "    print(\"Access granted.\")\n",
        "    break\n",
        "\n",
        "  else:\n",
        "    print(f\"Wrong ({attempt}/3)\")\n",
        "\n",
        "else:\n",
        "  print(\"Card blocked.\")"
      ]
    },
    {
      "cell_type": "markdown",
      "id": "1c61e343",
      "metadata": {
        "id": "1c61e343"
      },
      "source": [
        "**Part 2 — Test Scenario**\n",
        "Run your program and, when prompted, enter these sequences to verify both behaviors:\n",
        "\n",
        "**Scenario A**\n",
        "```\n",
        "1111\n",
        "2222\n",
        "4321\n",
        "```\n",
        "\n",
        "\n"
      ]
    }
  ],
  "metadata": {
    "kernelspec": {
      "display_name": "Python 3",
      "language": "python",
      "name": "python3"
    },
    "language_info": {
      "name": "python",
      "version": "3.x"
    },
    "colab": {
      "provenance": []
    }
  },
  "nbformat": 4,
  "nbformat_minor": 5
}